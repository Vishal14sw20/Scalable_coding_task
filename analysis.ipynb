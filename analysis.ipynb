{
 "cells": [
  {
   "cell_type": "markdown",
   "source": [
    "# Task #2 Data Analysis"
   ],
   "metadata": {
    "collapsed": false,
    "pycharm": {
     "name": "#%% md\n"
    }
   }
  },
  {
   "cell_type": "markdown",
   "source": [
    "## Import needed libraries"
   ],
   "metadata": {
    "collapsed": false,
    "pycharm": {
     "name": "#%% md\n"
    }
   }
  },
  {
   "cell_type": "code",
   "execution_count": null,
   "outputs": [],
   "source": [
    "import duckdb\n",
    "import numpy"
   ],
   "metadata": {
    "collapsed": false,
    "pycharm": {
     "name": "#%%\n"
    }
   }
  },
  {
   "cell_type": "markdown",
   "source": [
    "### Connect to database."
   ],
   "metadata": {
    "collapsed": false,
    "pycharm": {
     "name": "#%% md\n"
    }
   }
  },
  {
   "cell_type": "code",
   "execution_count": null,
   "outputs": [],
   "source": [
    "conn = duckdb.connect('listenbrainz.db')"
   ],
   "metadata": {
    "collapsed": false,
    "pycharm": {
     "name": "#%%\n"
    }
   }
  },
  {
   "cell_type": "markdown",
   "source": [
    "## Question a)\n",
    "\n",
    "### Who are the top 10 users with respect to the number of songs listened to?"
   ],
   "metadata": {
    "collapsed": false,
    "pycharm": {
     "name": "#%% md\n"
    }
   }
  },
  {
   "cell_type": "code",
   "execution_count": null,
   "outputs": [],
   "source": [
    "first_query = \"\"\"SELECT user_name, COUNT(id) as total_listens\n",
    "FROM listens\n",
    "GROUP BY user_name\n",
    "ORDER BY total_listens DESC\n",
    "LIMIT 10;\"\"\"\n",
    "\n",
    "conn.query(first_query)"
   ],
   "metadata": {
    "collapsed": false,
    "pycharm": {
     "name": "#%%\n"
    }
   }
  },
  {
   "cell_type": "markdown",
   "source": [
    "### How many users did listen to some song on the 1st of March 2019?"
   ],
   "metadata": {
    "collapsed": false,
    "pycharm": {
     "name": "#%% md\n"
    }
   }
  },
  {
   "cell_type": "code",
   "execution_count": null,
   "outputs": [],
   "source": [
    "second_query = \"\"\"SELECT COUNT(DISTINCT user_name) as users_count\n",
    "FROM listens\n",
    "WHERE listened_at::date = '2019-03-01';\"\"\"\n",
    "\n",
    "conn.query(second_query)"
   ],
   "metadata": {
    "collapsed": false,
    "pycharm": {
     "name": "#%%\n"
    }
   }
  },
  {
   "cell_type": "markdown",
   "source": [
    "### For every user, what was the first song the user listened to?\n"
   ],
   "metadata": {
    "collapsed": false,
    "pycharm": {
     "name": "#%% md\n"
    }
   }
  },
  {
   "cell_type": "code",
   "execution_count": null,
   "outputs": [],
   "source": [
    "third_query = \"\"\"WITH first_listen AS (\n",
    "    SELECT user_name, MIN(listened_at) as first_listen_time\n",
    "    FROM listens\n",
    "    GROUP BY user_name\n",
    ")\n",
    "SELECT FL.user_name, FL.first_listen_time, L.track_name\n",
    "FROM first_listen FL\n",
    "JOIN listens L ON FL.user_name = L.user_name AND FL.first_listen_time = L.listened_at\n",
    "ORDER BY FL.user_name ;\"\"\"\n",
    "\n",
    "conn.query(third_query)"
   ],
   "metadata": {
    "collapsed": false,
    "pycharm": {
     "name": "#%%\n"
    }
   }
  },
  {
   "cell_type": "markdown",
   "source": [
    "## Question b)\n",
    "\n",
    "### Top 3 days with the most listens for each user"
   ],
   "metadata": {
    "collapsed": false,
    "pycharm": {
     "name": "#%% md\n"
    }
   }
  },
  {
   "cell_type": "code",
   "execution_count": null,
   "outputs": [],
   "source": [
    "fourth_query = \"\"\"WITH ListensPerUser AS (\n",
    "    SELECT user_name, listened_at::date as date, COUNT(id) as number_of_listens\n",
    "    FROM listens\n",
    "    GROUP BY user_name, listened_at::date\n",
    "),\n",
    "RankedListens AS (\n",
    "    SELECT user_name, date, number_of_listens,\n",
    "           Row_number() OVER (PARTITION BY user_name ORDER BY number_of_listens DESC) as row_number\n",
    "    FROM ListensPerUser\n",
    ")\n",
    "SELECT user_name, number_of_listens, date\n",
    "FROM RankedListens\n",
    "WHERE row_number <= 3\n",
    "ORDER BY user_name, number_of_listens DESC;\"\"\"\n",
    "\n",
    "conn.query(fourth_query)"
   ],
   "metadata": {
    "collapsed": false,
    "pycharm": {
     "name": "#%%\n"
    }
   }
  },
  {
   "cell_type": "markdown",
   "source": [
    "## Question c)\n",
    "\n",
    "### Daily active users and percentage of active users"
   ],
   "metadata": {
    "collapsed": false,
    "pycharm": {
     "name": "#%% md\n"
    }
   }
  },
  {
   "cell_type": "code",
   "execution_count": null,
   "outputs": [],
   "source": [
    "fifth_query = \"\"\"WITH active_users AS (\n",
    "    SELECT user_name, listened_at::date as listen_date\n",
    "    FROM listens\n",
    "    GROUP BY user_name, listen_date\n",
    "    HAVING listen_date BETWEEN listen_date - INTERVAL '6 days' AND listen_date\n",
    ")\n",
    "SELECT listen_date, COUNT(DISTINCT user_name) as number_active_users,\n",
    "       (COUNT(DISTINCT user_name) * 100.0 / (SELECT COUNT(DISTINCT user_name) FROM listens)) as percentage_active_users\n",
    "FROM active_users\n",
    "GROUP BY listen_date\n",
    "ORDER BY listen_date;\"\"\"\n",
    "\n",
    "conn.query(fifth_query)"
   ],
   "metadata": {
    "collapsed": false,
    "pycharm": {
     "name": "#%%\n"
    }
   }
  }
 ],
 "metadata": {
  "kernelspec": {
   "display_name": "Python 3 (ipykernel)",
   "language": "python",
   "name": "python3"
  },
  "language_info": {
   "codemirror_mode": {
    "name": "ipython",
    "version": 3
   },
   "file_extension": ".py",
   "mimetype": "text/x-python",
   "name": "python",
   "nbconvert_exporter": "python",
   "pygments_lexer": "ipython3",
   "version": "3.9.6"
  }
 },
 "nbformat": 4,
 "nbformat_minor": 4
}